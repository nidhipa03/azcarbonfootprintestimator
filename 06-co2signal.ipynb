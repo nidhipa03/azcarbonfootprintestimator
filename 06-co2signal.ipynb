{
 "cells": [
  {
   "cell_type": "code",
   "execution_count": 2,
   "metadata": {},
   "outputs": [
    {
     "name": "stdout",
     "output_type": "stream",
     "text": [
      "Requirement already satisfied: requests in c:\\python310\\lib\\site-packages (2.28.1)\n",
      "Requirement already satisfied: charset-normalizer<3,>=2 in c:\\python310\\lib\\site-packages (from requests) (2.1.1)\n",
      "Requirement already satisfied: urllib3<1.27,>=1.21.1 in c:\\python310\\lib\\site-packages (from requests) (1.26.12)\n",
      "Requirement already satisfied: idna<4,>=2.5 in c:\\python310\\lib\\site-packages (from requests) (3.4)\n",
      "Requirement already satisfied: certifi>=2017.4.17 in c:\\python310\\lib\\site-packages (from requests) (2022.9.14)\n",
      "Note: you may need to restart the kernel to use updated packages.\n"
     ]
    },
    {
     "name": "stderr",
     "output_type": "stream",
     "text": [
      "WARNING: You are using pip version 21.2.4; however, version 22.2.2 is available.\n",
      "You should consider upgrading via the 'c:\\Python310\\python.exe -m pip install --upgrade pip' command.\n"
     ]
    }
   ],
   "source": [
    "pip install requests    "
   ]
  },
  {
   "cell_type": "code",
   "execution_count": 3,
   "metadata": {},
   "outputs": [
    {
     "name": "stdout",
     "output_type": "stream",
     "text": [
      "Name: requests\n",
      "Version: 2.28.1\n",
      "Summary: Python HTTP for Humans.\n",
      "Home-page: https://requests.readthedocs.io\n",
      "Author: Kenneth Reitz\n",
      "Author-email: me@kennethreitz.org\n",
      "License: Apache 2.0\n",
      "Location: c:\\python310\\lib\\site-packages\n",
      "Requires: urllib3, charset-normalizer, idna, certifi\n",
      "Required-by: panda\n",
      "Note: you may need to restart the kernel to use updated packages.\n"
     ]
    }
   ],
   "source": [
    "pip show requests"
   ]
  },
  {
   "cell_type": "code",
   "execution_count": 27,
   "metadata": {},
   "outputs": [
    {
     "name": "stdout",
     "output_type": "stream",
     "text": [
      "{\"_disclaimer\":\"This data is the exclusive property of electricityMap and/or related parties. If you're in doubt about your rights to use this data, please contact api@co2signal.com\",\"status\":\"ok\",\"countryCode\":\"US-FLA-FMPP\",\"data\":{\"datetime\":\"2022-09-21T02:00:00.000Z\",\"carbonIntensity\":553,\"fossilFuelPercentage\":97.11},\"units\":{\"carbonIntensity\":\"gCO2eq/kWh\"}}\n"
     ]
    }
   ],
   "source": [
    "# How to make http request\n",
    "import requests as req\n",
    "apiKey = ''\n",
    "r = req.get('https://api.co2signal.com/v1/latest?countryCode=US-FLA-FMPP', headers={'auth-token': apiKey})\n",
    "print (r.text)"
   ]
  },
  {
   "cell_type": "code",
   "execution_count": 55,
   "metadata": {},
   "outputs": [
    {
     "data": {
      "text/html": [
       "<div>\n",
       "<style scoped>\n",
       "    .dataframe tbody tr th:only-of-type {\n",
       "        vertical-align: middle;\n",
       "    }\n",
       "\n",
       "    .dataframe tbody tr th {\n",
       "        vertical-align: top;\n",
       "    }\n",
       "\n",
       "    .dataframe thead th {\n",
       "        text-align: right;\n",
       "    }\n",
       "</style>\n",
       "<table border=\"1\" class=\"dataframe\">\n",
       "  <thead>\n",
       "    <tr style=\"text-align: right;\">\n",
       "      <th></th>\n",
       "      <th>Regions</th>\n",
       "      <th>CountryCode</th>\n",
       "      <th>carbonIntensity</th>\n",
       "      <th>fossilFuelPercentage</th>\n",
       "      <th>units</th>\n",
       "    </tr>\n",
       "  </thead>\n",
       "  <tbody>\n",
       "    <tr>\n",
       "      <th>0</th>\n",
       "      <td>West US</td>\n",
       "      <td>US-CAL-CISO</td>\n",
       "      <td>NaN</td>\n",
       "      <td>NaN</td>\n",
       "      <td>NaN</td>\n",
       "    </tr>\n",
       "    <tr>\n",
       "      <th>1</th>\n",
       "      <td>East US</td>\n",
       "      <td>MIDA-PJM</td>\n",
       "      <td>NaN</td>\n",
       "      <td>NaN</td>\n",
       "      <td>NaN</td>\n",
       "    </tr>\n",
       "    <tr>\n",
       "      <th>2</th>\n",
       "      <td>North EU</td>\n",
       "      <td>GB-NIR</td>\n",
       "      <td>NaN</td>\n",
       "      <td>NaN</td>\n",
       "      <td>NaN</td>\n",
       "    </tr>\n",
       "    <tr>\n",
       "      <th>3</th>\n",
       "      <td>West EU</td>\n",
       "      <td>NL</td>\n",
       "      <td>NaN</td>\n",
       "      <td>NaN</td>\n",
       "      <td>NaN</td>\n",
       "    </tr>\n",
       "    <tr>\n",
       "      <th>4</th>\n",
       "      <td>East Asia</td>\n",
       "      <td>HK</td>\n",
       "      <td>NaN</td>\n",
       "      <td>NaN</td>\n",
       "      <td>NaN</td>\n",
       "    </tr>\n",
       "    <tr>\n",
       "      <th>5</th>\n",
       "      <td>SouthEast Asia</td>\n",
       "      <td>SG</td>\n",
       "      <td>NaN</td>\n",
       "      <td>NaN</td>\n",
       "      <td>NaN</td>\n",
       "    </tr>\n",
       "    <tr>\n",
       "      <th>6</th>\n",
       "      <td>AU East</td>\n",
       "      <td>AUS-NSW</td>\n",
       "      <td>NaN</td>\n",
       "      <td>NaN</td>\n",
       "      <td>NaN</td>\n",
       "    </tr>\n",
       "    <tr>\n",
       "      <th>7</th>\n",
       "      <td>AU Central</td>\n",
       "      <td>AUS-NSW</td>\n",
       "      <td>NaN</td>\n",
       "      <td>NaN</td>\n",
       "      <td>NaN</td>\n",
       "    </tr>\n",
       "  </tbody>\n",
       "</table>\n",
       "</div>"
      ],
      "text/plain": [
       "          Regions  CountryCode  carbonIntensity  fossilFuelPercentage  units\n",
       "0         West US  US-CAL-CISO              NaN                   NaN    NaN\n",
       "1         East US     MIDA-PJM              NaN                   NaN    NaN\n",
       "2        North EU       GB-NIR              NaN                   NaN    NaN\n",
       "3         West EU           NL              NaN                   NaN    NaN\n",
       "4       East Asia           HK              NaN                   NaN    NaN\n",
       "5  SouthEast Asia           SG              NaN                   NaN    NaN\n",
       "6         AU East      AUS-NSW              NaN                   NaN    NaN\n",
       "7      AU Central      AUS-NSW              NaN                   NaN    NaN"
      ]
     },
     "execution_count": 55,
     "metadata": {},
     "output_type": "execute_result"
    }
   ],
   "source": [
    "# Read CSV inputs  \n",
    "import pandas as pd\n",
    "df = pd.read_csv('co2signalzones\\co2emissionregions.csv')\n",
    "df.head(10)"
   ]
  },
  {
   "cell_type": "code",
   "execution_count": 61,
   "metadata": {},
   "outputs": [
    {
     "data": {
      "text/html": [
       "<div>\n",
       "<style scoped>\n",
       "    .dataframe tbody tr th:only-of-type {\n",
       "        vertical-align: middle;\n",
       "    }\n",
       "\n",
       "    .dataframe tbody tr th {\n",
       "        vertical-align: top;\n",
       "    }\n",
       "\n",
       "    .dataframe thead th {\n",
       "        text-align: right;\n",
       "    }\n",
       "</style>\n",
       "<table border=\"1\" class=\"dataframe\">\n",
       "  <thead>\n",
       "    <tr style=\"text-align: right;\">\n",
       "      <th></th>\n",
       "      <th>CountryCode</th>\n",
       "    </tr>\n",
       "  </thead>\n",
       "  <tbody>\n",
       "    <tr>\n",
       "      <th>0</th>\n",
       "      <td>US-CAL-CISO</td>\n",
       "    </tr>\n",
       "    <tr>\n",
       "      <th>1</th>\n",
       "      <td>MIDA-PJM</td>\n",
       "    </tr>\n",
       "    <tr>\n",
       "      <th>2</th>\n",
       "      <td>GB-NIR</td>\n",
       "    </tr>\n",
       "    <tr>\n",
       "      <th>3</th>\n",
       "      <td>NL</td>\n",
       "    </tr>\n",
       "    <tr>\n",
       "      <th>4</th>\n",
       "      <td>HK</td>\n",
       "    </tr>\n",
       "    <tr>\n",
       "      <th>5</th>\n",
       "      <td>SG</td>\n",
       "    </tr>\n",
       "    <tr>\n",
       "      <th>6</th>\n",
       "      <td>AUS-NSW</td>\n",
       "    </tr>\n",
       "    <tr>\n",
       "      <th>7</th>\n",
       "      <td>AUS-NSW</td>\n",
       "    </tr>\n",
       "  </tbody>\n",
       "</table>\n",
       "</div>"
      ],
      "text/plain": [
       "   CountryCode\n",
       "0  US-CAL-CISO\n",
       "1     MIDA-PJM\n",
       "2       GB-NIR\n",
       "3           NL\n",
       "4           HK\n",
       "5           SG\n",
       "6      AUS-NSW\n",
       "7      AUS-NSW"
      ]
     },
     "execution_count": 61,
     "metadata": {},
     "output_type": "execute_result"
    }
   ],
   "source": [
    "# Read CSV for country code inputs  \n",
    "import pandas as pd\n",
    "df = pd.read_csv('co2signalzones\\co2emissionregions.csv', usecols=[1])\n",
    "df"
   ]
  },
  {
   "cell_type": "code",
   "execution_count": 46,
   "metadata": {},
   "outputs": [
    {
     "name": "stdout",
     "output_type": "stream",
     "text": [
      "{\"_disclaimer\":\"This data is the exclusive property of electricityMap and/or related parties. If you're in doubt about your rights to use this data, please contact api@co2signal.com\",\"status\":\"ok\",\"countryCode\":\"US-CAL-CISO\",\"data\":{\"datetime\":\"2022-09-21T05:00:00.000Z\",\"carbonIntensity\":305,\"fossilFuelPercentage\":56.99000000000001},\"units\":{\"carbonIntensity\":\"gCO2eq/kWh\"}}\n",
      "{\"_disclaimer\":\"This data is the exclusive property of electricityMap and/or related parties. If you're in doubt about your rights to use this data, please contact api@co2signal.com\",\"status\":\"ok\",\"countryCode\":\"MIDA-PJM\",\"data\":{\"fossilFuelPercentage\":null},\"units\":{\"carbonIntensity\":\"gCO2eq/kWh\"}}\n",
      "{\"_disclaimer\":\"This data is the exclusive property of electricityMap and/or related parties. If you're in doubt about your rights to use this data, please contact api@co2signal.com\",\"status\":\"ok\",\"countryCode\":\"GB-NIR\",\"data\":{\"fossilFuelPercentage\":null},\"units\":{\"carbonIntensity\":\"gCO2eq/kWh\"}}\n",
      "{\"_disclaimer\":\"This data is the exclusive property of electricityMap and/or related parties. If you're in doubt about your rights to use this data, please contact api@co2signal.com\",\"status\":\"ok\",\"countryCode\":\"NL\",\"data\":{\"datetime\":\"2022-09-21T03:00:00.000Z\",\"carbonIntensity\":473,\"fossilFuelPercentage\":88.08},\"units\":{\"carbonIntensity\":\"gCO2eq/kWh\"}}\n",
      "{\"_disclaimer\":\"This data is the exclusive property of electricityMap and/or related parties. If you're in doubt about your rights to use this data, please contact api@co2signal.com\",\"status\":\"ok\",\"countryCode\":\"HK\",\"data\":{\"datetime\":\"2022-09-21T03:00:00.000Z\",\"carbonIntensity\":435,\"fossilFuelPercentage\":72},\"units\":{\"carbonIntensity\":\"gCO2eq/kWh\"}}\n",
      "{\"_disclaimer\":\"This data is the exclusive property of electricityMap and/or related parties. If you're in doubt about your rights to use this data, please contact api@co2signal.com\",\"status\":\"ok\",\"countryCode\":\"SG\",\"data\":{\"datetime\":\"2022-09-21T05:00:00.000Z\",\"carbonIntensity\":474,\"fossilFuelPercentage\":92.34},\"units\":{\"carbonIntensity\":\"gCO2eq/kWh\"}}\n",
      "{\"_disclaimer\":\"This data is the exclusive property of electricityMap and/or related parties. If you're in doubt about your rights to use this data, please contact api@co2signal.com\",\"status\":\"ok\",\"countryCode\":\"AUS-NSW\",\"data\":{\"datetime\":\"2022-09-21T05:00:00.000Z\",\"carbonIntensity\":693,\"fossilFuelPercentage\":86.27},\"units\":{\"carbonIntensity\":\"gCO2eq/kWh\"}}\n",
      "{\"_disclaimer\":\"This data is the exclusive property of electricityMap and/or related parties. If you're in doubt about your rights to use this data, please contact api@co2signal.com\",\"status\":\"ok\",\"countryCode\":\"AUS-NSW\",\"data\":{\"datetime\":\"2022-09-21T05:00:00.000Z\",\"carbonIntensity\":693,\"fossilFuelPercentage\":86.27},\"units\":{\"carbonIntensity\":\"gCO2eq/kWh\"}}\n"
     ]
    }
   ],
   "source": [
    "#Iterating the rows of a DataFrame into http request\n",
    "# https://stackoverflow.com/questions/16476924/how-to-iterate-over-rows-in-a-dataframe-in-pandas \n",
    "import time\n",
    "import requests as req\n",
    "import json\n",
    "for index, row in df.iterrows():\n",
    "    r = req.get('https://api.co2signal.com/v1/latest?countryCode='+row[1], headers={'auth-token': apiKey})\n",
    "    print (r.text)\n",
    "    json_data = json.loads(r.text)\n",
    "    print (json_data)\n",
    "    time.sleep(3) #Sleep for 3 seconds"
   ]
  },
  {
   "cell_type": "code",
   "execution_count": 60,
   "metadata": {},
   "outputs": [
    {
     "data": {
      "text/plain": [
       "{'datetime': '2022-09-21T04:00:00.000Z',\n",
       " 'carbonIntensity': 534,\n",
       " 'fossilFuelPercentage': 96.66}"
      ]
     },
     "execution_count": 60,
     "metadata": {},
     "output_type": "execute_result"
    }
   ],
   "source": [
    "json_data['data']\n"
   ]
  },
  {
   "cell_type": "code",
   "execution_count": 57,
   "metadata": {},
   "outputs": [
    {
     "name": "stdout",
     "output_type": "stream",
     "text": [
      "{\"_disclaimer\":\"This data is the exclusive property of electricityMap and/or related parties. If you're in doubt about your rights to use this data, please contact api@co2signal.com\",\"status\":\"ok\",\"countryCode\":\"US-CAL-CISO\",\"data\":{\"datetime\":\"2022-09-21T05:00:00.000Z\",\"carbonIntensity\":308,\"fossilFuelPercentage\":58.15},\"units\":{\"carbonIntensity\":\"gCO2eq/kWh\"}}\n",
      "{\"_disclaimer\":\"This data is the exclusive property of electricityMap and/or related parties. If you're in doubt about your rights to use this data, please contact api@co2signal.com\",\"status\":\"ok\",\"countryCode\":\"MIDA-PJM\",\"data\":{\"fossilFuelPercentage\":null},\"units\":{\"carbonIntensity\":\"gCO2eq/kWh\"}}\n",
      "{\"_disclaimer\":\"This data is the exclusive property of electricityMap and/or related parties. If you're in doubt about your rights to use this data, please contact api@co2signal.com\",\"status\":\"ok\",\"countryCode\":\"GB-NIR\",\"data\":{\"fossilFuelPercentage\":null},\"units\":{\"carbonIntensity\":\"gCO2eq/kWh\"}}\n",
      "{\"_disclaimer\":\"This data is the exclusive property of electricityMap and/or related parties. If you're in doubt about your rights to use this data, please contact api@co2signal.com\",\"status\":\"ok\",\"countryCode\":\"NL\",\"data\":{\"datetime\":\"2022-09-21T04:00:00.000Z\",\"carbonIntensity\":477,\"fossilFuelPercentage\":88.84},\"units\":{\"carbonIntensity\":\"gCO2eq/kWh\"}}\n",
      "{\"_disclaimer\":\"This data is the exclusive property of electricityMap and/or related parties. If you're in doubt about your rights to use this data, please contact api@co2signal.com\",\"status\":\"ok\",\"countryCode\":\"HK\",\"data\":{\"datetime\":\"2022-09-21T04:00:00.000Z\",\"carbonIntensity\":435,\"fossilFuelPercentage\":72},\"units\":{\"carbonIntensity\":\"gCO2eq/kWh\"}}\n",
      "{\"_disclaimer\":\"This data is the exclusive property of electricityMap and/or related parties. If you're in doubt about your rights to use this data, please contact api@co2signal.com\",\"status\":\"ok\",\"countryCode\":\"SG\",\"data\":{\"datetime\":\"2022-09-21T05:00:00.000Z\",\"carbonIntensity\":468,\"fossilFuelPercentage\":91.03},\"units\":{\"carbonIntensity\":\"gCO2eq/kWh\"}}\n",
      "{\"_disclaimer\":\"This data is the exclusive property of electricityMap and/or related parties. If you're in doubt about your rights to use this data, please contact api@co2signal.com\",\"status\":\"ok\",\"countryCode\":\"AUS-NSW\",\"data\":{\"datetime\":\"2022-09-21T05:00:00.000Z\",\"carbonIntensity\":670,\"fossilFuelPercentage\":83.28},\"units\":{\"carbonIntensity\":\"gCO2eq/kWh\"}}\n",
      "{\"_disclaimer\":\"This data is the exclusive property of electricityMap and/or related parties. If you're in doubt about your rights to use this data, please contact api@co2signal.com\",\"status\":\"ok\",\"countryCode\":\"AUS-NSW\",\"data\":{\"datetime\":\"2022-09-21T05:00:00.000Z\",\"carbonIntensity\":670,\"fossilFuelPercentage\":83.28},\"units\":{\"carbonIntensity\":\"gCO2eq/kWh\"}}\n"
     ]
    }
   ],
   "source": [
    "dataList =[]\n",
    "for index, row in df.iterrows():\n",
    "    r = req.get('https://api.co2signal.com/v1/latest?countryCode='+row[1], headers={'auth-token': apiKey})\n",
    "    dataList.append(r)\n",
    "    print (r.text)\n",
    "    time.sleep(3) #Sleep for 3 seconds\n",
    "\n",
    "with open('co2signalzones\\co2emissionoutput.csv', 'w') as f:\n",
    "    writer = csv.writer(f)\n",
    "    writer.writerows(dataList)\n",
    "    #df = pd.read_json(r.text)\n",
    "    #df.to_csv('co2signalzones\\co2emissionoutput.csv', mode='a')"
   ]
  }
 ],
 "metadata": {
  "kernelspec": {
   "display_name": "Python 3.10.2 64-bit",
   "language": "python",
   "name": "python3"
  },
  "language_info": {
   "codemirror_mode": {
    "name": "ipython",
    "version": 3
   },
   "file_extension": ".py",
   "mimetype": "text/x-python",
   "name": "python",
   "nbconvert_exporter": "python",
   "pygments_lexer": "ipython3",
   "version": "3.10.2"
  },
  "orig_nbformat": 4,
  "vscode": {
   "interpreter": {
    "hash": "369f2c481f4da34e4445cda3fffd2e751bd1c4d706f27375911949ba6bb62e1c"
   }
  }
 },
 "nbformat": 4,
 "nbformat_minor": 2
}
